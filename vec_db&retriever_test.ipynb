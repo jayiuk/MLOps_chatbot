{
 "cells": [
  {
   "cell_type": "code",
   "execution_count": 1,
   "metadata": {},
   "outputs": [
    {
     "name": "stderr",
     "output_type": "stream",
     "text": [
      "c:\\Users\\user\\anaconda3\\envs\\nlp\\Lib\\site-packages\\sentence_transformers\\cross_encoder\\CrossEncoder.py:11: TqdmWarning: IProgress not found. Please update jupyter and ipywidgets. See https://ipywidgets.readthedocs.io/en/stable/user_install.html\n",
      "  from tqdm.autonotebook import tqdm, trange\n"
     ]
    }
   ],
   "source": [
    "import VectorStore\n",
    "# from Retriever import retriever\n",
    "import DocLoader\n",
    "from langchain.vectorstores import Chroma\n",
    "from retriever2 import Retriever\n"
   ]
  },
  {
   "cell_type": "code",
   "execution_count": 2,
   "metadata": {},
   "outputs": [
    {
     "ename": "ValueError",
     "evalue": "File path C:/Users/jayiu/Downloads/가계대출상품설명서.pdf is not a valid file or url",
     "output_type": "error",
     "traceback": [
      "\u001b[1;31m---------------------------------------------------------------------------\u001b[0m",
      "\u001b[1;31mValueError\u001b[0m                                Traceback (most recent call last)",
      "Cell \u001b[1;32mIn[2], line 1\u001b[0m\n\u001b[1;32m----> 1\u001b[0m docs \u001b[38;5;241m=\u001b[39m DocLoader\u001b[38;5;241m.\u001b[39mdocload(\u001b[38;5;124m'\u001b[39m\u001b[38;5;124mC:/Users/jayiu/Downloads/가계대출상품설명서.pdf\u001b[39m\u001b[38;5;124m'\u001b[39m)\n",
      "File \u001b[1;32md:\\chatbot_main\\DocLoader.py:8\u001b[0m, in \u001b[0;36msplit.<locals>.wrapper\u001b[1;34m(*args, **kwargs)\u001b[0m\n\u001b[0;32m      7\u001b[0m \u001b[38;5;28;01mdef\u001b[39;00m \u001b[38;5;21mwrapper\u001b[39m(\u001b[38;5;241m*\u001b[39margs, \u001b[38;5;241m*\u001b[39m\u001b[38;5;241m*\u001b[39mkwargs):\n\u001b[1;32m----> 8\u001b[0m     docs \u001b[38;5;241m=\u001b[39m func(\u001b[38;5;241m*\u001b[39margs, \u001b[38;5;241m*\u001b[39m\u001b[38;5;241m*\u001b[39mkwargs)\n\u001b[0;32m      9\u001b[0m     splitted_doc_list \u001b[38;5;241m=\u001b[39m []\n\u001b[0;32m     10\u001b[0m     doc_list \u001b[38;5;241m=\u001b[39m [doc\u001b[38;5;241m.\u001b[39mpage_content \u001b[38;5;28;01mfor\u001b[39;00m doc \u001b[38;5;129;01min\u001b[39;00m docs]\n",
      "File \u001b[1;32md:\\chatbot_main\\DocLoader.py:23\u001b[0m, in \u001b[0;36mdocload\u001b[1;34m(file_path)\u001b[0m\n\u001b[0;32m     21\u001b[0m \u001b[38;5;129m@split\u001b[39m\n\u001b[0;32m     22\u001b[0m \u001b[38;5;28;01mdef\u001b[39;00m \u001b[38;5;21mdocload\u001b[39m(file_path):\n\u001b[1;32m---> 23\u001b[0m     loader \u001b[38;5;241m=\u001b[39m PDFMinerLoader(file_path, concatenate_pages\u001b[38;5;241m=\u001b[39m\u001b[38;5;28;01mFalse\u001b[39;00m)\n\u001b[0;32m     24\u001b[0m     pages \u001b[38;5;241m=\u001b[39m loader\u001b[38;5;241m.\u001b[39mload()\n\u001b[0;32m     25\u001b[0m     \u001b[38;5;28;01mreturn\u001b[39;00m pages\n",
      "File \u001b[1;32mc:\\Users\\user\\anaconda3\\envs\\nlp\\Lib\\site-packages\\langchain_community\\document_loaders\\pdf.py:303\u001b[0m, in \u001b[0;36mPDFMinerLoader.__init__\u001b[1;34m(self, file_path, headers, extract_images, concatenate_pages)\u001b[0m\n\u001b[0;32m    297\u001b[0m \u001b[38;5;28;01mexcept\u001b[39;00m \u001b[38;5;167;01mImportError\u001b[39;00m:\n\u001b[0;32m    298\u001b[0m     \u001b[38;5;28;01mraise\u001b[39;00m \u001b[38;5;167;01mImportError\u001b[39;00m(\n\u001b[0;32m    299\u001b[0m         \u001b[38;5;124m\"\u001b[39m\u001b[38;5;124m`pdfminer` package not found, please install it with \u001b[39m\u001b[38;5;124m\"\u001b[39m\n\u001b[0;32m    300\u001b[0m         \u001b[38;5;124m\"\u001b[39m\u001b[38;5;124m`pip install pdfminer.six`\u001b[39m\u001b[38;5;124m\"\u001b[39m\n\u001b[0;32m    301\u001b[0m     )\n\u001b[1;32m--> 303\u001b[0m \u001b[38;5;28msuper\u001b[39m()\u001b[38;5;241m.\u001b[39m\u001b[38;5;21m__init__\u001b[39m(file_path, headers\u001b[38;5;241m=\u001b[39mheaders)\n\u001b[0;32m    304\u001b[0m \u001b[38;5;28mself\u001b[39m\u001b[38;5;241m.\u001b[39mparser \u001b[38;5;241m=\u001b[39m PDFMinerParser(\n\u001b[0;32m    305\u001b[0m     extract_images\u001b[38;5;241m=\u001b[39mextract_images, concatenate_pages\u001b[38;5;241m=\u001b[39mconcatenate_pages\n\u001b[0;32m    306\u001b[0m )\n",
      "File \u001b[1;32mc:\\Users\\user\\anaconda3\\envs\\nlp\\Lib\\site-packages\\langchain_community\\document_loaders\\pdf.py:117\u001b[0m, in \u001b[0;36mBasePDFLoader.__init__\u001b[1;34m(self, file_path, headers)\u001b[0m\n\u001b[0;32m    115\u001b[0m         \u001b[38;5;28mself\u001b[39m\u001b[38;5;241m.\u001b[39mfile_path \u001b[38;5;241m=\u001b[39m \u001b[38;5;28mstr\u001b[39m(temp_pdf)\n\u001b[0;32m    116\u001b[0m \u001b[38;5;28;01melif\u001b[39;00m \u001b[38;5;129;01mnot\u001b[39;00m os\u001b[38;5;241m.\u001b[39mpath\u001b[38;5;241m.\u001b[39misfile(\u001b[38;5;28mself\u001b[39m\u001b[38;5;241m.\u001b[39mfile_path):\n\u001b[1;32m--> 117\u001b[0m     \u001b[38;5;28;01mraise\u001b[39;00m \u001b[38;5;167;01mValueError\u001b[39;00m(\u001b[38;5;124m\"\u001b[39m\u001b[38;5;124mFile path \u001b[39m\u001b[38;5;132;01m%s\u001b[39;00m\u001b[38;5;124m is not a valid file or url\u001b[39m\u001b[38;5;124m\"\u001b[39m \u001b[38;5;241m%\u001b[39m \u001b[38;5;28mself\u001b[39m\u001b[38;5;241m.\u001b[39mfile_path)\n",
      "\u001b[1;31mValueError\u001b[0m: File path C:/Users/jayiu/Downloads/가계대출상품설명서.pdf is not a valid file or url"
     ]
    }
   ],
   "source": [
    "docs = DocLoader.docload('C:/Users/jayiu/Downloads/가계대출상품설명서.pdf')"
   ]
  },
  {
   "cell_type": "code",
   "execution_count": null,
   "metadata": {},
   "outputs": [],
   "source": [
    "vec_db = VectorStore.get_vectorstore(docs, collection = 'testdb', dir_path = './MLOps_chatbot')"
   ]
  },
  {
   "cell_type": "code",
   "execution_count": null,
   "metadata": {},
   "outputs": [],
   "source": [
    "from langchain_huggingface import HuggingFaceEmbeddings\n",
    "embedding_model = HuggingFaceEmbeddings(model_name = 'BAAI/bge-m3', model_kwargs = {'device' : 'cpu'}, encode_kwargs={'normalize_embeddings':True},)"
   ]
  },
  {
   "cell_type": "code",
   "execution_count": null,
   "metadata": {},
   "outputs": [
    {
     "name": "stderr",
     "output_type": "stream",
     "text": [
      "c:\\Users\\jayiu\\anaconda3\\envs\\mlops\\Lib\\site-packages\\langchain_core\\_api\\deprecation.py:139: LangChainDeprecationWarning: The class `Chroma` was deprecated in LangChain 0.2.9 and will be removed in 0.4. An updated version of the class exists in the langchain-chroma package and should be used instead. To use it run `pip install -U langchain-chroma` and import as `from langchain_chroma import Chroma`.\n",
      "  warn_deprecated(\n"
     ]
    }
   ],
   "source": [
    "# retriever = retriever(vec_db=vec_db, searched = 3)\n",
    "retriever_obj = Retriever(dir_path = './MLOps_chatbot', collection_name = 'testdb', searched = 1)\n",
    "retriever2 =  retriever_obj.as_retriever()"
   ]
  },
  {
   "cell_type": "code",
   "execution_count": null,
   "metadata": {},
   "outputs": [],
   "source": [
    "# searched_result = retriever.get_docs(query = '개인신용평가대응권이 뭐야?')\n",
    "# searched_result"
   ]
  },
  {
   "cell_type": "code",
   "execution_count": null,
   "metadata": {},
   "outputs": [],
   "source": [
    "# type(searched_result)"
   ]
  },
  {
   "cell_type": "code",
   "execution_count": null,
   "metadata": {},
   "outputs": [
    {
     "data": {
      "text/plain": [
       "[Document(metadata={'page': '3', 'source': 'C:/Users/jayiu/Downloads/가계대출상품설명서.pdf'}, page_content='\\n\\n 금융소비자는 「신용정보의 이용 및 보호에 관한 법률」제36조의2에 따라 자동화 평가의 결과, 자동화 평가의 주요 기준, 자동화 평가의 평가에 이용된 기초정보 등에 대해 설명하여 줄 것을 은행에 요구할 수 있습니다\\n\\n\\n\\n 은행은 다음 어느 하나에 해당하는 경우에는 금융소비자의 요구를 거절할 수 있으며, 기초정보가 정정\\n\\n삭제되었더라도 신용상태의 개선이 경미한 경우, 재평가결과는 기존과 동일할 수 있습니다\\n\\n\\n\\n 자동화평가가 아닌 방식으로 개인의 신용을 평가하는 경우\\n\\n 관련 법령에 특별한 규정이 있거나 법령상 의무를 준수하기 위하여 불가피한 경우\\n\\n 해당 금융소비자의 요구에 따르게 되면 금융거래 등 상거래관계의 설정 및 유지 등이 곤란한 경우\\n\\n 금융소비자가 정정 또는 삭제 요청한 내용이 사실과 다른 경우\\n\\n 정당한 사유 없이 동일한 금융거래 등에 대해 3회 이상 반복적으로 대응권을 행사하는 경우4\\n\\n 대출금리 산정방식 및 결정요인\\n\\n 대출금리 산정방식은 크게 고정금리, 변동금리로 구분되며, 고객님이 신청하신 상품은 [ 고정금리 변동금리,  ] 상품입니다\\n\\n\\n\\n 대출금리 결정(변동) 요인\\n\\n 대출금리는 은행의 자금조달금리에 각종 원가요소와 목표수익률(마진) 등을 반영하여 결정됩니다\\n\\n\\n\\n 대출금리는 변동기준을 명확히 표시하기 위해 일반적으로 대출 기준금리와 가산금리의 합으로 표시됩니다\\n\\n \\n \\n \\n\\x0c')]"
      ]
     },
     "execution_count": 9,
     "metadata": {},
     "output_type": "execute_result"
    }
   ],
   "source": [
    "searched = retriever2.get_relevant_documents('개인신용평가대응권이 뭐야?')\n",
    "searched"
   ]
  }
 ],
 "metadata": {
  "kernelspec": {
   "display_name": "nlp",
   "language": "python",
   "name": "python3"
  },
  "language_info": {
   "codemirror_mode": {
    "name": "ipython",
    "version": 3
   },
   "file_extension": ".py",
   "mimetype": "text/x-python",
   "name": "python",
   "nbconvert_exporter": "python",
   "pygments_lexer": "ipython3",
   "version": "3.11.7"
  }
 },
 "nbformat": 4,
 "nbformat_minor": 2
}
