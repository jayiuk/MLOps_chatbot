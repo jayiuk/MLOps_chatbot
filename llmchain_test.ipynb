{
 "cells": [
  {
   "cell_type": "code",
   "execution_count": 1,
   "metadata": {},
   "outputs": [
    {
     "name": "stderr",
     "output_type": "stream",
     "text": [
      "c:\\Users\\jayiu\\anaconda3\\envs\\mlops\\Lib\\site-packages\\sentence_transformers\\cross_encoder\\CrossEncoder.py:11: TqdmWarning: IProgress not found. Please update jupyter and ipywidgets. See https://ipywidgets.readthedocs.io/en/stable/user_install.html\n",
      "  from tqdm.autonotebook import tqdm, trange\n"
     ]
    }
   ],
   "source": [
    "from llmchain import GetChain\n",
    "from langchain_ollama import ChatOllama"
   ]
  },
  {
   "cell_type": "code",
   "execution_count": 2,
   "metadata": {},
   "outputs": [
    {
     "name": "stderr",
     "output_type": "stream",
     "text": [
      "c:\\Users\\jayiu\\anaconda3\\envs\\mlops\\Lib\\site-packages\\langchain_core\\_api\\deprecation.py:139: LangChainDeprecationWarning: The class `Chroma` was deprecated in LangChain 0.2.9 and will be removed in 0.4. An updated version of the class exists in the langchain-chroma package and should be used instead. To use it run `pip install -U langchain-chroma` and import as `from langchain_chroma import Chroma`.\n",
      "  warn_deprecated(\n"
     ]
    }
   ],
   "source": [
    "dir_path = './MLOps_chatbot'\n",
    "collection = 'testdb'\n",
    "model = ChatOllama(model = 'llama3.2', temperature = 0.0)\n",
    "chain_obj = GetChain(dir_path, collection, 1, model)"
   ]
  },
  {
   "cell_type": "code",
   "execution_count": 3,
   "metadata": {},
   "outputs": [],
   "source": [
    "chain = chain_obj.get_chain()"
   ]
  },
  {
   "cell_type": "code",
   "execution_count": 4,
   "metadata": {},
   "outputs": [
    {
     "data": {
      "text/plain": [
       "{'query': '자료열람요구권이 뭐야?',\n",
       " 'result': '자료열람요구권은 은행이 금융소비자의 요구에 따라 자료를 열람할 수 있는 권리를 말합니다. Specifically, 금융소비자는 \"신용정보의 이용 및 보호에 관한 법률\" 제36조의2에 따라 은행에 자동화 평가의 결과, 주요 기준, 평가에 사용된 기초정보 등에 대해 설명을 요구할 수 있습니다.',\n",
       " 'source_documents': [Document(metadata={'page': '3', 'source': 'C:/Users/jayiu/Downloads/가계대출상품설명서.pdf'}, page_content='\\n\\n 금융소비자는 「신용정보의 이용 및 보호에 관한 법률」제36조의2에 따라 자동화 평가의 결과, 자동화 평가의 주요 기준, 자동화 평가의 평가에 이용된 기초정보 등에 대해 설명하여 줄 것을 은행에 요구할 수 있습니다\\n\\n\\n\\n 은행은 다음 어느 하나에 해당하는 경우에는 금융소비자의 요구를 거절할 수 있으며, 기초정보가 정정\\n\\n삭제되었더라도 신용상태의 개선이 경미한 경우, 재평가결과는 기존과 동일할 수 있습니다\\n\\n\\n\\n 자동화평가가 아닌 방식으로 개인의 신용을 평가하는 경우\\n\\n 관련 법령에 특별한 규정이 있거나 법령상 의무를 준수하기 위하여 불가피한 경우\\n\\n 해당 금융소비자의 요구에 따르게 되면 금융거래 등 상거래관계의 설정 및 유지 등이 곤란한 경우\\n\\n 금융소비자가 정정 또는 삭제 요청한 내용이 사실과 다른 경우\\n\\n 정당한 사유 없이 동일한 금융거래 등에 대해 3회 이상 반복적으로 대응권을 행사하는 경우4\\n\\n 대출금리 산정방식 및 결정요인\\n\\n 대출금리 산정방식은 크게 고정금리, 변동금리로 구분되며, 고객님이 신청하신 상품은 [ 고정금리 변동금리,  ] 상품입니다\\n\\n\\n\\n 대출금리 결정(변동) 요인\\n\\n 대출금리는 은행의 자금조달금리에 각종 원가요소와 목표수익률(마진) 등을 반영하여 결정됩니다\\n\\n\\n\\n 대출금리는 변동기준을 명확히 표시하기 위해 일반적으로 대출 기준금리와 가산금리의 합으로 표시됩니다\\n\\n \\n \\n \\n\\x0c')]}"
      ]
     },
     "execution_count": 4,
     "metadata": {},
     "output_type": "execute_result"
    }
   ],
   "source": [
    "chain.invoke('자료열람요구권이 뭐야?')"
   ]
  },
  {
   "cell_type": "code",
   "execution_count": 6,
   "metadata": {},
   "outputs": [
    {
     "data": {
      "text/plain": [
       "{'query': '개인신용평가대응권이 뭐야?',\n",
       " 'result': '개인신용평가대응권은 금융소비자가 은행에 대한 신용평가 결과에 대해 불만을 feel한 경우, 그 소비자의 요구를 거절할 수 있는 권리를 말합니다.',\n",
       " 'source_documents': [Document(metadata={'page': '3', 'source': 'C:/Users/jayiu/Downloads/가계대출상품설명서.pdf'}, page_content='\\n\\n 금융소비자는 「신용정보의 이용 및 보호에 관한 법률」제36조의2에 따라 자동화 평가의 결과, 자동화 평가의 주요 기준, 자동화 평가의 평가에 이용된 기초정보 등에 대해 설명하여 줄 것을 은행에 요구할 수 있습니다\\n\\n\\n\\n 은행은 다음 어느 하나에 해당하는 경우에는 금융소비자의 요구를 거절할 수 있으며, 기초정보가 정정\\n\\n삭제되었더라도 신용상태의 개선이 경미한 경우, 재평가결과는 기존과 동일할 수 있습니다\\n\\n\\n\\n 자동화평가가 아닌 방식으로 개인의 신용을 평가하는 경우\\n\\n 관련 법령에 특별한 규정이 있거나 법령상 의무를 준수하기 위하여 불가피한 경우\\n\\n 해당 금융소비자의 요구에 따르게 되면 금융거래 등 상거래관계의 설정 및 유지 등이 곤란한 경우\\n\\n 금융소비자가 정정 또는 삭제 요청한 내용이 사실과 다른 경우\\n\\n 정당한 사유 없이 동일한 금융거래 등에 대해 3회 이상 반복적으로 대응권을 행사하는 경우4\\n\\n 대출금리 산정방식 및 결정요인\\n\\n 대출금리 산정방식은 크게 고정금리, 변동금리로 구분되며, 고객님이 신청하신 상품은 [ 고정금리 변동금리,  ] 상품입니다\\n\\n\\n\\n 대출금리 결정(변동) 요인\\n\\n 대출금리는 은행의 자금조달금리에 각종 원가요소와 목표수익률(마진) 등을 반영하여 결정됩니다\\n\\n\\n\\n 대출금리는 변동기준을 명확히 표시하기 위해 일반적으로 대출 기준금리와 가산금리의 합으로 표시됩니다\\n\\n \\n \\n \\n\\x0c')]}"
      ]
     },
     "execution_count": 6,
     "metadata": {},
     "output_type": "execute_result"
    }
   ],
   "source": [
    "chain.invoke('개인신용평가대응권이 뭐야?')"
   ]
  },
  {
   "cell_type": "code",
   "execution_count": null,
   "metadata": {},
   "outputs": [],
   "source": []
  }
 ],
 "metadata": {
  "kernelspec": {
   "display_name": "mlops",
   "language": "python",
   "name": "python3"
  },
  "language_info": {
   "codemirror_mode": {
    "name": "ipython",
    "version": 3
   },
   "file_extension": ".py",
   "mimetype": "text/x-python",
   "name": "python",
   "nbconvert_exporter": "python",
   "pygments_lexer": "ipython3",
   "version": "3.11.7"
  }
 },
 "nbformat": 4,
 "nbformat_minor": 2
}
