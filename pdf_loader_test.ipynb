{
 "cells": [
  {
   "cell_type": "code",
   "execution_count": 1,
   "metadata": {},
   "outputs": [
    {
     "data": {
      "text/plain": [
       "[Document(metadata={'source': './test.pdf', 'page': 0}, page_content='【국세청민원사무처리규정 제15호 서식】(2019. 7.5.개정)\\n발 급 번 호소  득  금  액  증  명(개정전)\\n□ 종합소득세 신고자용\\n□ 연말정산한 사업소득자용\\n□ 근로소득자용\\n□ 연말정산한 종교인소득자용\\n□ 연말정산한 연금소득자용처 리 기 간\\n즉 시\\n주 소\\n성 명 주 민 등 록 번 호\\n(단위：원)\\n소 득 구 분 원 천 징 수 의 무 자\\n소 득 금액\\n(과 세 대 상 급 여 액 )총 결 정 세 액\\n귀 속 연 도법 인 명 (상 호)\\n사 업 자 등 록 번 호\\n (납세자가 신청한 증명 귀속연도 :    . ～    . )\\n위와 같이 증명합니다 .\\n ※ 위 내용은 발급일 현재 상황으로서 추후 변경될 수 있습니다 .\\n년     월     일\\n 세 무 서 장 (인)\\n접수번호◦ 소득금액내용\\n  - 종합소득세 신고자 ：종합소득금액 (결정소득금액 )\\n   ※ 이월결손금을 공제하지 않은 금액임\\n  - 연말정산 사업소득자 ：당해연도 소득금액 (사업소득금액 )\\n  - 연말정산 근로소득자 ：과세대상급여액\\n  - 일용근로소득자 : 원천징수의무자가 소득세법 제164조의 규정에  의하여  \\n제출한 일용근로소득지급명세서의 총지급액 (과세소득 )\\n  - 연말정산 종교인소득자 ：필요경비 차감 전 과세대상 종교인소득\\n  - 연말정산 연금소득자 ：당해연도 소득금액 (연금소득금액 )담당부서\\n담 당 자\\n연 락 처\\n'),\n",
       " Document(metadata={'source': './test.pdf', 'page': 1}, page_content='【국세청민원사무처리규정 제15호서식】(2022.9.22.개정)\\n발급번호소득금액증명(개정후)\\n(2020년귀속)처리기간\\n즉시\\n주소\\n성명 주민등록번호\\n◇종합소득세신고(결정·경정)현황 (단위:원)\\n구분종합과세 분리\\n과세총\\n결정세액 이자배당사업근로연금기타합계\\n수입금액4000300010000030000000 60000000\\n소득금액400030007000027000000 50000000\\n*종합과세소득금액은이월결손금을공제하지않은금액임\\n*분리과세:종합소득세신고(결정·경정)한분리과세소득(2천만원이하주택임대소득과계약금이위약금․배상금으\\n로대체된기타소득)의수입금액및소득금액의합계액\\n*총결정세액:종합과세와분리과세의결정세액합계액\\n◇연말정산(지급명세서제출)현황[※종합소득세신고(결정,경정)현황에서종합과세된\\n소득이있는경우미기재](단위:원)\\n구분소득발생처지급받은\\n총액소득금액총결정세액비고\\n법인명(상호)사업자등록번호\\n사업소득\\n근로소득(연말정산)\\n(일용근로)\\n연금소득\\n종교인소득\\n(납세자가신청한증명귀속연도:.～.)\\n위와같이증명합니다.\\n※위내용은발급일현재상황으로서추후변경될수있습니다.\\n년월일\\n세무서장(인)\\n◊용어설명\\n구분수입금액·지급받은총액 소득금액\\n이 자 소 득 지급받은이자소득총액 지급받은이자소득(필요경비없음)\\n배 당 소 득 지급받은배당소득총액 지급받은배당소득(필요경비없음)\\n사 업 소 득 지급받은총수입금액총수입금액에서필요경비차감한금액\\n(연말정산사업소득포함)\\n근 로 소 득·근로자가지급받은총급여액\\n·일용근로자가지급받은총액·총급여액에서근로소득공제후금액\\n·일용근로자가지급받은총액\\n연 금 소 득 공적기관에서지급받은총연금액 총연금액에서연금소득공제후금액\\n기 타 소 득 지급받은기타소득총액 지급받은총액에서필요경비차감한금액\\n종교인소득 종교단체에서지급받은총액 지급받은총액에서필요경비차감한금액\\n접수번호 구분 담당부서 담당자 연락처\\n증명발급자\\n세적담당자\\n'),\n",
       " Document(metadata={'source': './test.pdf', 'page': 2}, page_content=\"【국세청민원사무처리규정 제16호 서식】(2019. 7.5.개정)\\n발  급  번  호\\nIssuance number 소  득  금  액  증  명 (개정전)\\nCertificate of Income\\n □ 종합소득세 신고자용\\n    For individual taxpayers who file global income tax returns \\n □ 연말정산한 사업소득자용\\n    For individual taxpayers who file business income tax returns by year-end settlement\\n □ 근로소득자용\\n    For Wage & Salary income earner \\n □ 연말정산한 종교인소득자용\\n    For religious income earner subject to year-end settlement \\n □ 연말정산한 연금소득자용\\n    For Pension income earner 처  리  기  간\\nProcessing time\\n즉       시\\nImmediately\\n주     소\\nHome Address\\n성     명\\nName주 민 등 록 번 호\\nResident registration number\\n                                                                             (단  위 : 원)\\n                                                                             (Unit : Won)\\n소 득 구 분\\nType of income원 천 징 수 의 무 자\\nWithholding agent\\n소  득  금  액\\n(과세대상급여액 )\\nAmount of income총 결 정 세 액\\nTotal income \\ntax calculated 귀 속 연 도\\nTax year법 인 명 (상  호)\\nName of company\\n사 업 자 등 록 번 호\\nBusiness registration number\\n(납세자가 신청한 증명 귀속연도 :     . ～       . ) (Requested years for certification :    .～       . )\\n위와 같이 증명합니다 .\\nI certify that above information is true and correct to the best of my knowledge and belief.\\n ※ 위 내용은 발급일 현재 상황으로서 추후 변경될 수 있습니다 .\\n   This information is true as of the issuance date of this certification and but maybe subject \\nto change in the future.\\n                                                  년       월       일\\n                                                 Year    Month     Day\\n                                                   세  무  서  장  (인)\\n                                Head   of (    ) District Tax Office  (Stamp)\\n접수번호\\nReceipt No. ㅇ 소득금액내용  Income to be covered\\n  - 종합소득세 신고자 : 종합소득금액 (결정소득금액 ) \\n    Taxpayers who file the global tax return : Global income\\n    ※ 이월결손금을 공제하지 않은 금액임 Amount before deducting carried-over deficit\\n  - 연말정산 사업소득자 : 당해연도 소득금액 (사업소득금액 ) \\n    Business income earner subject to year-end settlement:: Business income for the year    \\n  - 연말정산 근로소득자 : 과세대상급여액 \\n    Wage & Salary income earner subject to year-end settlement:: Taxable Wage & Salary income\\n  - 일용근로소득자 : 원천징수의무자가 소득세법 제164조의 규정에 의하여 제출한 일용근로소득지급 \\n명세서의 총지급액 (과세소득 )\\n    Daily-paid worker:Total amount payable(taxable income) stated on the Payment Record of \\nthe daily-paid worker's earned income which is submitted by the withholding agent under \\nthe provision of the Article 164 of the Income Tax Act  \\n  - 연말정산 종교인소득자 : 필요경비 차감 전 과세대상 종교인소득\\n    Religious income earner subject to year-end settlement : Taxable religious income before \\ndeducting before incurred expenses\\n  - 연말정산 연금소득자 ：당해연도 소득금액 (연금소득금액 )\\nPension income earner subject to year-end settlement : Pension income for the year 담당부서\\nDepartment민원봉사실\\n Taxpayer\\n Service Center\\n담 당 자\\nStaff in \\ncharge\\n연 락 처\\nTelephone No.\"),\n",
       " Document(metadata={'source': './test.pdf', 'page': 3}, page_content='【국세청민원사무처리규정 제16호서식】(2022.9.22.개정)\\n발급번호\\nIssuancenumber 소  득  금  액  증  명 (개정후)\\nCertificateofIncome\\n(2020년귀속)\\n(Foryear2020)처리기간\\nProcessingperiod\\n즉시\\nImmediately\\n주소\\nHomeaddress\\n성명\\nName주민등록번호\\nResidentregistrationnumber\\n◇종합소득세신고(결정·경정)현황\\nGlobalIncomeTaxReturns(Assessment,Reassessment)(단위:원)\\n(Unit:won)\\n구분\\nType종합과세Globalincometaxation\\n분리\\n과세\\nSeparate\\nTaxation총결정세액\\nTotalincome\\ntax\\ndetermined이자\\nInterest배당\\nDividend사업\\nBusiness근로\\nWage&\\nsalary연금\\nPension기타\\nOther합계\\nTotal\\n수입금액\\nRevenue\\n소득금액\\nIncome\\n*종합과세소득금액은이월결손금을공제하지않은금액임\\nLosscarriedforwardisnotdeductedfromincomesubjecttoglobalincometaxation.\\n*분리과세:종합소득세신고(결정·경정)한분리과세소득(2천만원이하주택임대소득과계약금이위약금․배상금으로대체된기타\\n소득)의수입금액및소득금액의합계액\\nSeparatetaxation:Thesumofrevenueandincomeofseparately-taxed income(Housingrentalincomeof20\\nmillionwonorless,andotherincomewherepenaltiesandcompensations replacingdownpayment)whichhas\\nbeendeclaredforglobalincometax(assessment,reassessment)\\n*총결정세액:종합과세와분리과세의결정세액합계액\\n*Totaltaxdetermined:Thesumofdeterminedtaxessubjecttoglobaltaxationandseparatetaxation\\n◇연말정산(지급명세서제출)현황\\nYear-endtaxsettlement\\n(Statementofpayment)[※종합소득세신고(결정,경정)현황에서종합과세된소득이있는\\n경우미기재]\\n[※Donotfillinifyoufiledaglobalincometaxreturn(assessment,\\nreassessment)](단위:원)\\n(Unit:won)\\n구분\\nType소득발생처\\nSourceofincome 지급받은\\n총액\\nTotalamount\\nreceived소득금액\\nAmountof\\nincome총결정세액\\nTotaltax\\ndetermined비고\\nRemark법인명(상호)\\nNameofcompany사업자등록번호\\nBusinessregistration\\nno.\\n사업소득\\nBusiness\\nincome\\n근로소득\\nWage&\\nsalary\\nincome(연말정산)\\n(일용근로)\\n(Year-endtax\\nsettlement)\\n(Dailyworker)\\n연금소득\\nPension\\nincome\\n종교인소득\\nReligious\\nworker’s\\nincome\\n(1/2)'),\n",
       " Document(metadata={'source': './test.pdf', 'page': 4}, page_content='(납세자가신청한증명귀속연도:.～.)\\n(Requestedyearsforcertification:.～.)\\n위와같이증명합니다.\\nIcertifythattheaboveinformationistrueandcorrecttothebestofmyknowledgeandbelief.\\n※위내용은발급일현재상황으로서추후변경될수있습니다.\\nThisinformationistrueasoftheissuancedateofthiscertificationandbutmaybesubjecttochangeinthefuture.\\n※영문임의기재사항[상호,성명(대표자),업태,종목,상세주소]은실체적권리관계를증명하는효력이없습니다.\\nArbitrarydatainEnglish[nameofcompany,nameofrepresentative,businesstype,\\nbusinessitem,andaddress]donotholdapowertoprovetheactualrelationshipofrights.\\n 일월연\\n DayMonthYear\\n 세무서장(인)\\n Headof()DistrictTaxOffice(Stamp)\\n◊용어설명Glossary\\n(2/2)구분수입금액·지급받은총액\\nRevenue&totalamountreceived소득금액\\nAmountofincome\\n이 자 소 득\\nI n t e r e s t\\ni n c o m e지급받은이자소득총액\\nTotalamountofinterestincome\\nreceived지급받은이자소득(필요경비없음)\\nInterestincomereceived(nonecessaryexpenses)\\n배 당 소 득\\nDividend\\ni n c o m e지급받은배당소득총액\\nTotalamountofdividendincome\\nreceived지급받은배당소득(필요경비없음)\\nDividendincomereceived(nonecessaryexpenses)\\n사 업 소 득\\nBusiness\\ni n c o m e지급받은총수입금액\\nGrossrevenuereceived총수입금액에서필요경비차감한금액\\n(연말정산사업소득포함)\\nGrossrevenuelessnecessaryexpenses\\n(includingbusinessincomedeclaredthroughyear-end\\ntaxsettlement)\\n근 로 소 득\\nWage&salary\\ni n c o m e·근로자가지급받은총급여액\\n·일용근로자가지급받은총액\\n·Totalpayreceivedbyemployee\\n·Grossamountreceivedbydailyworkers·총급여액에서근로소득공제후금액\\n·일용근로자가지급받은총액\\n·Totalpaylesswage&salaryincomededuction\\n·Grossamountreceivedbydailyworkers\\n연 금 소 득\\nP e n s i o n\\ni n c o m e공적기관에서지급받은총연금액\\nTotalamountofpensionreceivedbypublic\\ninstitutions총연금액에서연금소득공제후금액\\nTotalpensionafterpensionincomededuction\\n기 타 소 득\\nOtherincome지급받은기타소득총액\\nTotalofotherincomereceived지급받은총액에서필요경비차감한금액\\nTotalrevenuereceivedlessnecessaryexpenses\\n종 교 인 소 득\\nReligious\\nworker’s\\ni n c o m e종교단체에서지급받은총액\\nTotalamountreceivedbyreligious\\norganizations지급받은총액에서필요경비차감한금액\\nTotalrevenuereceivedlessnecessaryexpenses\\n접수번호\\nReceiptNo.구분\\nType담당부서\\nDepartment담당자\\nTaxofficer연락처\\nTelephoneNo.\\n증명발급자\\nIssuedby\\n세적담당자\\nInchargeof\\nincometax')]"
      ]
     },
     "execution_count": 1,
     "metadata": {},
     "output_type": "execute_result"
    }
   ],
   "source": [
    "from loan_screening_pdf_loader import extract_text\n",
    "file = './test.pdf'\n",
    "pages = extract_text(file)\n",
    "pages"
   ]
  },
  {
   "cell_type": "code",
   "execution_count": null,
   "metadata": {},
   "outputs": [],
   "source": []
  }
 ],
 "metadata": {
  "kernelspec": {
   "display_name": "mlops",
   "language": "python",
   "name": "python3"
  },
  "language_info": {
   "codemirror_mode": {
    "name": "ipython",
    "version": 3
   },
   "file_extension": ".py",
   "mimetype": "text/x-python",
   "name": "python",
   "nbconvert_exporter": "python",
   "pygments_lexer": "ipython3",
   "version": "3.11.7"
  }
 },
 "nbformat": 4,
 "nbformat_minor": 2
}
